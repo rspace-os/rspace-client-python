{
 "cells": [
  {
   "cell_type": "code",
   "execution_count": 5,
   "id": "c7bfff8a",
   "metadata": {},
   "outputs": [],
   "source": [
    "import rspace_client\n",
    "import pandas as pd\n",
    "import os\n",
    "P85=\"https://pangolin8085.researchspace.com\"\n",
    "API_KEY=\"UEE2WAODi7KYVKCk2OrWhPCkWTpxP95o\" ## dcopper\n",
    "api = rspace_client.Client(P85, API_KEY)\n",
    "\n",
    "doc = api.get_document(31577)\n",
    "html = doc['fields'][0]['content']\n",
    "## this gets a calculation table \n",
    "datatables = rspace_client.FieldContent(html).get_datatables()[0]\n",
    "\n",
    "df = pd.DataFrame(datatables)\n",
    "\n"
   ]
  },
  {
   "cell_type": "code",
   "execution_count": 6,
   "id": "0ac4cfcf",
   "metadata": {},
   "outputs": [
    {
     "data": {
      "text/html": [
       "<div>\n",
       "<style scoped>\n",
       "    .dataframe tbody tr th:only-of-type {\n",
       "        vertical-align: middle;\n",
       "    }\n",
       "\n",
       "    .dataframe tbody tr th {\n",
       "        vertical-align: top;\n",
       "    }\n",
       "\n",
       "    .dataframe thead th {\n",
       "        text-align: right;\n",
       "    }\n",
       "</style>\n",
       "<table border=\"1\" class=\"dataframe\">\n",
       "  <thead>\n",
       "    <tr style=\"text-align: right;\">\n",
       "      <th></th>\n",
       "      <th>0</th>\n",
       "      <th>1</th>\n",
       "      <th>2</th>\n",
       "      <th>3</th>\n",
       "    </tr>\n",
       "  </thead>\n",
       "  <tbody>\n",
       "    <tr>\n",
       "      <th>0</th>\n",
       "      <td>Car</td>\n",
       "      <td>Cylinders</td>\n",
       "      <td>HP</td>\n",
       "      <td>mpg</td>\n",
       "    </tr>\n",
       "    <tr>\n",
       "      <th>1</th>\n",
       "      <td>Ford</td>\n",
       "      <td>2</td>\n",
       "      <td>45</td>\n",
       "      <td>45</td>\n",
       "    </tr>\n",
       "    <tr>\n",
       "      <th>2</th>\n",
       "      <td>Vauxhall</td>\n",
       "      <td>6</td>\n",
       "      <td>235</td>\n",
       "      <td>34</td>\n",
       "    </tr>\n",
       "    <tr>\n",
       "      <th>3</th>\n",
       "      <td>Skoda</td>\n",
       "      <td>6</td>\n",
       "      <td>170</td>\n",
       "      <td>41</td>\n",
       "    </tr>\n",
       "    <tr>\n",
       "      <th>4</th>\n",
       "      <td>Mercedes</td>\n",
       "      <td>8</td>\n",
       "      <td>340</td>\n",
       "      <td>25</td>\n",
       "    </tr>\n",
       "  </tbody>\n",
       "</table>\n",
       "</div>"
      ],
      "text/plain": [
       "          0          1    2    3\n",
       "0       Car  Cylinders   HP  mpg\n",
       "1      Ford          2   45   45\n",
       "2  Vauxhall          6  235   34\n",
       "3     Skoda          6  170   41\n",
       "4  Mercedes          8  340   25"
      ]
     },
     "execution_count": 6,
     "metadata": {},
     "output_type": "execute_result"
    }
   ],
   "source": [
    "df.head()\n"
   ]
  },
  {
   "cell_type": "code",
   "execution_count": 7,
   "id": "18e7c351",
   "metadata": {},
   "outputs": [
    {
     "data": {
      "text/plain": [
       "{'id': 31577,\n",
       " 'globalId': 'SD31577',\n",
       " 'name': 'Analysis of transformation T1234 with pBr456',\n",
       " 'created': '2021-06-07T14:28:08.587Z',\n",
       " 'lastModified': '2021-06-09T14:04:14.712Z',\n",
       " 'parentFolderId': 6424,\n",
       " 'signed': False,\n",
       " 'tags': 'projectABC',\n",
       " 'form': {'id': 32772,\n",
       "  'globalId': 'FM32772',\n",
       "  'stableId': '1389376462449null',\n",
       "  'version': 0,\n",
       "  'name': 'Basic Document',\n",
       "  'tags': None,\n",
       "  'formState': 'PUBLISHED',\n",
       "  'accessControl': {'ownerPermissionType': 'WRITE',\n",
       "   'groupPermissionType': 'NONE',\n",
       "   'worldPermissionType': 'READ'},\n",
       "  'iconId': -1,\n",
       "  '_links': [{'link': 'https://pangolin8085.researchspace.com/api/v1/forms/32772',\n",
       "    'rel': 'self'}]},\n",
       " 'owner': {'id': 753665,\n",
       "  'username': 'dcopper',\n",
       "  'email': 'ra22597@gmail.com',\n",
       "  'firstName': 'David2',\n",
       "  'lastName': 'Copperfield',\n",
       "  'homeFolderId': 6424,\n",
       "  '_links': []},\n",
       " 'fields': [{'id': 40796160,\n",
       "   'globalId': 'FD40796160',\n",
       "   'name': 'Data',\n",
       "   'lastModified': '2021-06-09T14:04:14.712Z',\n",
       "   'type': 'text',\n",
       "   'definition': None,\n",
       "   'columnIndex': 0,\n",
       "   'content': '<p>Raw data from spectro:</p> \\n<div class=\"attachmentDiv mceNonEditable\"> <a href=\"/Streamfile/31576\" target=\"_blank\" rel=\"noopener\"> <img class=\"attachmentIcon\" src=\"/image/docThumbnail/31576/none\" width=\"32\" height=\"32\" /> </a> \\n <p class=\"attachmentP\"><a id=\"attachOnText_31576\" class=\"attachmentLinked\" href=\"/Streamfile/31576\" target=\"_blank\" rel=\"noopener\" data-type=\"Documents\">ExampleInstrumentData.csv</a></p> \\n <div id=\"attachmentInfoDiv_31576\" class=\"attachmentInfoDiv\"> \\n  <img class=\"attachmentInfoIcon\" src=\"/images/getInfo12.png\" /> \\n </div> \\n</div> \\n<div class=\"rsCalcTableDiv mceNonEditable\" data-tabledata=\"{&quot;data&quot;:[[&quot;Car&quot;,&quot;Cylinders&quot;,&quot;HP&quot;,&quot;mpg&quot;,null,null,null,null,null,null,null,null],[&quot;Ford&quot;,&quot;2&quot;,&quot;45&quot;,&quot;45&quot;,null,null,null,null,null,null,null,null],[&quot;Vauxhall&quot;,&quot;6&quot;,&quot;235&quot;,&quot;34&quot;,null,null,null,null,null,null,null,null],[&quot;Skoda&quot;,&quot;6&quot;,&quot;170&quot;,&quot;41&quot;,null,null,null,null,null,null,null,null],[&quot;Mercedes&quot;,&quot;8&quot;,&quot;340&quot;,&quot;25&quot;,null,null,null,null,null,null,null,null],[&quot;Ferrari&quot;,&quot;12&quot;,&quot;600&quot;,&quot;18&quot;,null,null,null,null,null,null,null,null],[&quot;BMW&quot;,&quot;8&quot;,&quot;320&quot;,&quot;22&quot;,null,null,null,null,null,null,null,null],[null,null,null,null,null,null,null,null,null,null,null,null]],&quot;settings&quot;:&quot;dummy&quot;}\"> \\n <table class=\"rsCalcTable\"> \\n  <thead> \\n   <tr> \\n    <th>&nbsp;</th> \\n    <th scope=\"col\">A</th> \\n    <th scope=\"col\">B</th> \\n    <th scope=\"col\">C</th> \\n    <th scope=\"col\">D</th> \\n    <th scope=\"col\">E</th> \\n    <th scope=\"col\">F</th> \\n    <th scope=\"col\">G</th> \\n    <th scope=\"col\">H</th> \\n    <th scope=\"col\">I</th> \\n    <th scope=\"col\">J</th> \\n    <th scope=\"col\">K</th> \\n    <th scope=\"col\">L</th> \\n   </tr> \\n  </thead> \\n  <tbody> \\n   <tr> \\n    <th scope=\"row\">1</th> \\n    <td>Car</td> \\n    <td>Cylinders</td> \\n    <td>HP</td> \\n    <td>mpg</td> \\n    <td>&nbsp;</td> \\n    <td>&nbsp;</td> \\n    <td>&nbsp;</td> \\n    <td>&nbsp;</td> \\n    <td>&nbsp;</td> \\n    <td>&nbsp;</td> \\n    <td>&nbsp;</td> \\n    <td>&nbsp;</td> \\n   </tr> \\n   <tr> \\n    <th scope=\"row\">2</th> \\n    <td>Ford</td> \\n    <td>2</td> \\n    <td>45</td> \\n    <td>45</td> \\n    <td>&nbsp;</td> \\n    <td>&nbsp;</td> \\n    <td>&nbsp;</td> \\n    <td>&nbsp;</td> \\n    <td>&nbsp;</td> \\n    <td>&nbsp;</td> \\n    <td>&nbsp;</td> \\n    <td>&nbsp;</td> \\n   </tr> \\n   <tr> \\n    <th scope=\"row\">3</th> \\n    <td>Vauxhall</td> \\n    <td>6</td> \\n    <td>235</td> \\n    <td>34</td> \\n    <td>&nbsp;</td> \\n    <td>&nbsp;</td> \\n    <td>&nbsp;</td> \\n    <td>&nbsp;</td> \\n    <td>&nbsp;</td> \\n    <td>&nbsp;</td> \\n    <td>&nbsp;</td> \\n    <td>&nbsp;</td> \\n   </tr> \\n   <tr> \\n    <th scope=\"row\">4</th> \\n    <td>Skoda</td> \\n    <td>6</td> \\n    <td>170</td> \\n    <td>41</td> \\n    <td>&nbsp;</td> \\n    <td>&nbsp;</td> \\n    <td>&nbsp;</td> \\n    <td>&nbsp;</td> \\n    <td>&nbsp;</td> \\n    <td>&nbsp;</td> \\n    <td>&nbsp;</td> \\n    <td>&nbsp;</td> \\n   </tr> \\n   <tr> \\n    <th scope=\"row\">5</th> \\n    <td>Mercedes</td> \\n    <td>8</td> \\n    <td>340</td> \\n    <td>25</td> \\n    <td>&nbsp;</td> \\n    <td>&nbsp;</td> \\n    <td>&nbsp;</td> \\n    <td>&nbsp;</td> \\n    <td>&nbsp;</td> \\n    <td>&nbsp;</td> \\n    <td>&nbsp;</td> \\n    <td>&nbsp;</td> \\n   </tr> \\n   <tr> \\n    <th scope=\"row\">6</th> \\n    <td>Ferrari</td> \\n    <td>12</td> \\n    <td>600</td> \\n    <td>18</td> \\n    <td>&nbsp;</td> \\n    <td>&nbsp;</td> \\n    <td>&nbsp;</td> \\n    <td>&nbsp;</td> \\n    <td>&nbsp;</td> \\n    <td>&nbsp;</td> \\n    <td>&nbsp;</td> \\n    <td>&nbsp;</td> \\n   </tr> \\n   <tr> \\n    <th scope=\"row\">7</th> \\n    <td>BMW</td> \\n    <td>8</td> \\n    <td>320</td> \\n    <td>22</td> \\n    <td>&nbsp;</td> \\n    <td>&nbsp;</td> \\n    <td>&nbsp;</td> \\n    <td>&nbsp;</td> \\n    <td>&nbsp;</td> \\n    <td>&nbsp;</td> \\n    <td>&nbsp;</td> \\n    <td>&nbsp;</td> \\n   </tr> \\n   <tr> \\n    <th scope=\"row\">8</th> \\n    <td>&nbsp;</td> \\n    <td>&nbsp;</td> \\n    <td>&nbsp;</td> \\n    <td>&nbsp;</td> \\n    <td>&nbsp;</td> \\n    <td>&nbsp;</td> \\n    <td>&nbsp;</td> \\n    <td>&nbsp;</td> \\n    <td>&nbsp;</td> \\n    <td>&nbsp;</td> \\n    <td>&nbsp;</td> \\n    <td>&nbsp;</td> \\n   </tr> \\n  </tbody> \\n </table> \\n</div> \\n<table class=\"dataframe\" border=\"1\"> \\n <thead> \\n  <tr style=\"text-align: right;\"> \\n   <th>&nbsp;</th> \\n   <th>0</th> \\n   <th>1</th> \\n   <th>2</th> \\n   <th>3</th> \\n  </tr> \\n </thead> \\n <tbody> \\n  <tr> \\n   <th>count</th> \\n   <td>7</td> \\n   <td>7</td> \\n   <td>7</td> \\n   <td>7</td> \\n  </tr> \\n  <tr> \\n   <th>unique</th> \\n   <td>7</td> \\n   <td>5</td> \\n   <td>7</td> \\n   <td>7</td> \\n  </tr> \\n  <tr> \\n   <th>top</th> \\n   <td>Ford</td> \\n   <td>6</td> \\n   <td>340</td> \\n   <td>25</td> \\n  </tr> \\n  <tr> \\n   <th>freq</th> \\n   <td>1</td> \\n   <td>2</td> \\n   <td>1</td> \\n   <td>1</td> \\n  </tr> \\n </tbody> \\n</table>\\n<table border=\"1\" class=\"dataframe\"> \\n <thead> \\n  <tr style=\"text-align: right;\"> \\n   <th></th> \\n   <th>0</th> \\n   <th>1</th> \\n   <th>2</th> \\n   <th>3</th> \\n  </tr> \\n </thead> \\n <tbody> \\n  <tr> \\n   <th>count</th> \\n   <td>7</td> \\n   <td>7</td> \\n   <td>7</td> \\n   <td>7</td> \\n  </tr> \\n  <tr> \\n   <th>unique</th> \\n   <td>7</td> \\n   <td>5</td> \\n   <td>7</td> \\n   <td>7</td> \\n  </tr> \\n  <tr> \\n   <th>top</th> \\n   <td>Mercedes</td> \\n   <td>6</td> \\n   <td>170</td> \\n   <td>34</td> \\n  </tr> \\n  <tr> \\n   <th>freq</th> \\n   <td>1</td> \\n   <td>2</td> \\n   <td>1</td> \\n   <td>1</td> \\n  </tr> \\n </tbody> \\n</table>',\n",
       "   'files': [{'id': 31576,\n",
       "     'globalId': 'GL31576',\n",
       "     'name': 'ExampleInstrumentData.csv',\n",
       "     'caption': 'BioRad Spectrophotmeter: run #1234 ',\n",
       "     'contentType': 'text/csv',\n",
       "     'created': '2021-06-07T14:19:29.829Z',\n",
       "     'size': 44534,\n",
       "     'version': 1,\n",
       "     '_links': [{'link': 'https://pangolin8085.researchspace.com/api/v1/files/31576',\n",
       "       'rel': 'self'},\n",
       "      {'link': 'https://pangolin8085.researchspace.com/api/v1/files/31576/file',\n",
       "       'rel': 'enclosure'}]}],\n",
       "   '_links': []}],\n",
       " '_links': [{'link': 'https://pangolin8085.researchspace.com/api/v1/documents/31577',\n",
       "   'rel': 'self'}]}"
      ]
     },
     "execution_count": 7,
     "metadata": {},
     "output_type": "execute_result"
    }
   ],
   "source": [
    "output = df.describe().to_html()\n",
    "html = html + output\n",
    "api.update_document(31577, fields=[{'content': html}])"
   ]
  },
  {
   "cell_type": "code",
   "execution_count": null,
   "id": "d5f11808",
   "metadata": {},
   "outputs": [],
   "source": []
  }
 ],
 "metadata": {
  "kernelspec": {
   "display_name": "Python 3",
   "language": "python",
   "name": "python3"
  },
  "language_info": {
   "codemirror_mode": {
    "name": "ipython",
    "version": 3
   },
   "file_extension": ".py",
   "mimetype": "text/x-python",
   "name": "python",
   "nbconvert_exporter": "python",
   "pygments_lexer": "ipython3",
   "version": "3.9.5"
  }
 },
 "nbformat": 4,
 "nbformat_minor": 5
}
