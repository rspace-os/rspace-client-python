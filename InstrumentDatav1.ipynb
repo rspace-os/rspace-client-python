{
 "cells": [
  {
   "cell_type": "code",
   "execution_count": 8,
   "id": "f34e221b",
   "metadata": {},
   "outputs": [],
   "source": [
    "\n",
    "\n",
    "import sys\n",
    "sys.path.insert(0,\"/Users/richard/git/rspace-client-python\")\n",
    "API_KEY=\"UEE2WAODi7KYVKCk2OrWhPCkWTpxP95o\"\n",
    "URL=\"https://pangolin8085.researchspace.com\""
   ]
  },
  {
   "cell_type": "code",
   "execution_count": 23,
   "id": "e9377ad0",
   "metadata": {},
   "outputs": [],
   "source": [
    "\n",
    "import rspace_client\n",
    "## configure client from environment variables or local credentials file\n",
    "api = rspace_client.Client(URL, API_KEY)\n",
    "\n",
    "## gleaned from the UI, or search\n",
    "fileId = 31580\n",
    "file_name = api.get_file_info(fileId)['name']\n",
    "\n",
    "## retrieve from RSpace - either as file or into a stream\n",
    "spectro_results = api.download_file(fileId, file_name)"
   ]
  },
  {
   "cell_type": "code",
   "execution_count": 37,
   "id": "031453ef",
   "metadata": {},
   "outputs": [
    {
     "data": {
      "text/html": [
       "<div>\n",
       "<style scoped>\n",
       "    .dataframe tbody tr th:only-of-type {\n",
       "        vertical-align: middle;\n",
       "    }\n",
       "\n",
       "    .dataframe tbody tr th {\n",
       "        vertical-align: top;\n",
       "    }\n",
       "\n",
       "    .dataframe thead th {\n",
       "        text-align: right;\n",
       "    }\n",
       "</style>\n",
       "<table border=\"1\" class=\"dataframe\">\n",
       "  <thead>\n",
       "    <tr style=\"text-align: right;\">\n",
       "      <th></th>\n",
       "      <th>ExperimentId</th>\n",
       "      <th>A</th>\n",
       "      <th>B</th>\n",
       "      <th>C</th>\n",
       "      <th>D</th>\n",
       "      <th>E</th>\n",
       "      <th>F</th>\n",
       "    </tr>\n",
       "  </thead>\n",
       "  <tbody>\n",
       "    <tr>\n",
       "      <th>count</th>\n",
       "      <td>1000.000000</td>\n",
       "      <td>1000.000000</td>\n",
       "      <td>1000.000000</td>\n",
       "      <td>1000.00000</td>\n",
       "      <td>1000.000000</td>\n",
       "      <td>1000.000000</td>\n",
       "      <td>1000.000000</td>\n",
       "    </tr>\n",
       "    <tr>\n",
       "      <th>mean</th>\n",
       "      <td>500.500000</td>\n",
       "      <td>499.142340</td>\n",
       "      <td>504.206020</td>\n",
       "      <td>496.99026</td>\n",
       "      <td>502.434110</td>\n",
       "      <td>474.802570</td>\n",
       "      <td>495.593830</td>\n",
       "    </tr>\n",
       "    <tr>\n",
       "      <th>std</th>\n",
       "      <td>288.819436</td>\n",
       "      <td>288.785504</td>\n",
       "      <td>283.224643</td>\n",
       "      <td>286.03346</td>\n",
       "      <td>293.842484</td>\n",
       "      <td>287.601992</td>\n",
       "      <td>284.256028</td>\n",
       "    </tr>\n",
       "    <tr>\n",
       "      <th>min</th>\n",
       "      <td>1.000000</td>\n",
       "      <td>2.960000</td>\n",
       "      <td>2.980000</td>\n",
       "      <td>1.82000</td>\n",
       "      <td>1.370000</td>\n",
       "      <td>1.860000</td>\n",
       "      <td>5.510000</td>\n",
       "    </tr>\n",
       "    <tr>\n",
       "      <th>25%</th>\n",
       "      <td>250.750000</td>\n",
       "      <td>256.720000</td>\n",
       "      <td>263.012500</td>\n",
       "      <td>254.80500</td>\n",
       "      <td>244.085000</td>\n",
       "      <td>217.350000</td>\n",
       "      <td>240.355000</td>\n",
       "    </tr>\n",
       "  </tbody>\n",
       "</table>\n",
       "</div>"
      ],
      "text/plain": [
       "       ExperimentId            A            B           C            D  \\\n",
       "count   1000.000000  1000.000000  1000.000000  1000.00000  1000.000000   \n",
       "mean     500.500000   499.142340   504.206020   496.99026   502.434110   \n",
       "std      288.819436   288.785504   283.224643   286.03346   293.842484   \n",
       "min        1.000000     2.960000     2.980000     1.82000     1.370000   \n",
       "25%      250.750000   256.720000   263.012500   254.80500   244.085000   \n",
       "\n",
       "                 E            F  \n",
       "count  1000.000000  1000.000000  \n",
       "mean    474.802570   495.593830  \n",
       "std     287.601992   284.256028  \n",
       "min       1.860000     5.510000  \n",
       "25%     217.350000   240.355000  "
      ]
     },
     "execution_count": 37,
     "metadata": {},
     "output_type": "execute_result"
    }
   ],
   "source": [
    "import pandas as pd;\n",
    "df = pd.read_csv(file_name)\n",
    "##....analyse the data\n",
    "summary_stats = df.describe()\n",
    "summary_stats.head()\n",
    "\n",
    "\n"
   ]
  },
  {
   "cell_type": "code",
   "execution_count": 34,
   "id": "78677b42",
   "metadata": {},
   "outputs": [
    {
     "name": "stdout",
     "output_type": "stream",
     "text": [
      "uploaded id = 31581\n"
     ]
    }
   ],
   "source": [
    "## and upload \n",
    "summary_stats_csv = f'{file_name[:file_name.rindex(\".\")]}-summarystats.csv'\n",
    "summary_stats.to_csv(summary_stats_csv)\n",
    "uploaded = api.upload_file(summary_stats_csv)\n",
    "print(f\"uploaded id = {uploaded['id']}\")\n",
    " "
   ]
  },
  {
   "cell_type": "code",
   "execution_count": null,
   "id": "883e56bb",
   "metadata": {},
   "outputs": [],
   "source": []
  }
 ],
 "metadata": {
  "kernelspec": {
   "display_name": "Python 3",
   "language": "python",
   "name": "python3"
  },
  "language_info": {
   "codemirror_mode": {
    "name": "ipython",
    "version": 3
   },
   "file_extension": ".py",
   "mimetype": "text/x-python",
   "name": "python",
   "nbconvert_exporter": "python",
   "pygments_lexer": "ipython3",
   "version": "3.9.5"
  }
 },
 "nbformat": 4,
 "nbformat_minor": 5
}
